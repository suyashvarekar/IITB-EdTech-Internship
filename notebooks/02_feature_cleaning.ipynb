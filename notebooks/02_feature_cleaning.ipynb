{
  "nbformat": 4,
  "nbformat_minor": 0,
  "metadata": {
    "colab": {
      "provenance": []
    },
    "kernelspec": {
      "name": "python3",
      "display_name": "Python 3"
    },
    "language_info": {
      "name": "python"
    }
  },
  "cells": [
    {
      "cell_type": "markdown",
      "source": [
        "Prepare features & labels\n"
      ],
      "metadata": {
        "id": "oqehhnf2ieCX"
      }
    },
    {
      "cell_type": "code",
      "source": [
        "# Handle NaN/Inf\n",
        "all_data = all_data.replace([np.inf, -np.inf], np.nan)\n",
        "all_data = all_data.fillna(all_data.mean())\n",
        "all_data = all_data.fillna(0)\n",
        "\n",
        "# Features\n",
        "feature_cols = [c for c in all_data.columns if c not in (\"Student_ID\",\"PSY_label\")]\n",
        "X_df = all_data[feature_cols].astype(float).clip(-1e6, 1e6)\n",
        "\n",
        "# Labels\n",
        "if all_data['PSY_label'].notna().sum() >= 3:\n",
        "    med = all_data['PSY_label'].median()\n",
        "    y = (all_data['PSY_label'] > med).astype(int)\n",
        "    print(\"Binarized PSY_label into High/Low by median:\", med)\n",
        "else:\n",
        "    y = None\n",
        "    print(\" Not enough labels, supervised steps will be skipped.\")\n"
      ],
      "metadata": {
        "id": "VS18mVGvibl7",
        "colab": {
          "base_uri": "https://localhost:8080/"
        },
        "outputId": "9287b97c-cb2a-41f3-a858-7f1c26733514"
      },
      "execution_count": null,
      "outputs": [
        {
          "output_type": "stream",
          "name": "stdout",
          "text": [
            "Binarized PSY_label into High/Low by median: 2.0884615384615386\n"
          ]
        }
      ]
    },
    {
      "cell_type": "markdown",
      "source": [
        "Feature cleaning (variance + correlation)\n"
      ],
      "metadata": {
        "id": "LJhwCI-6ik5c"
      }
    },
    {
      "cell_type": "code",
      "source": [
        "sel = VarianceThreshold(threshold=1e-5)\n",
        "X_reduced = sel.fit_transform(X_df)\n",
        "sel_features = [f for i,f in enumerate(X_df.columns) if sel.get_support()[i]]\n",
        "\n",
        "X_reduced_df = pd.DataFrame(X_reduced, columns=sel_features)\n",
        "corr = X_reduced_df.corr().abs()\n",
        "upper = corr.where(np.triu(np.ones(corr.shape), k=1).astype(bool))\n",
        "to_drop = [c for c in upper.columns if any(upper[c]>0.95)]\n",
        "X_clean = X_reduced_df.drop(columns=to_drop)\n",
        "pd.Series(X_clean.columns).to_csv(\"project/data/cleaned_feature_names.csv\", index=False)\n",
        "\n",
        "print(\"Final cleaned shape:\", X_clean.shape)\n"
      ],
      "metadata": {
        "id": "TE7tAkV1ijC6",
        "colab": {
          "base_uri": "https://localhost:8080/"
        },
        "outputId": "caa841a4-d5aa-4f93-9fed-3837442ac0a2"
      },
      "execution_count": null,
      "outputs": [
        {
          "output_type": "stream",
          "name": "stdout",
          "text": [
            "Final cleaned shape: (38, 348)\n"
          ]
        }
      ]
    },
    {
      "cell_type": "markdown",
      "source": [
        "Scale features"
      ],
      "metadata": {
        "id": "NG8pRef0itTv"
      }
    },
    {
      "cell_type": "code",
      "source": [
        "scaler = StandardScaler()\n",
        "X_scaled = scaler.fit_transform(X_clean)\n",
        "joblib.dump(scaler, \"project/models/scaler.pkl\")\n",
        "print(\"Scaled shape:\", X_scaled.shape)"
      ],
      "metadata": {
        "id": "DjiIqIFDirYG",
        "colab": {
          "base_uri": "https://localhost:8080/"
        },
        "outputId": "9b53be8c-ed6d-47d0-8a68-54fce7df12d5"
      },
      "execution_count": null,
      "outputs": [
        {
          "output_type": "stream",
          "name": "stdout",
          "text": [
            "Scaled shape: (38, 348)\n"
          ]
        }
      ]
    }
  ]
}